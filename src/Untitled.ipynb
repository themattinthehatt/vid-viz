{
 "cells": [
  {
   "cell_type": "markdown",
   "metadata": {},
   "source": [
    "## Setup"
   ]
  },
  {
   "cell_type": "code",
   "execution_count": 1,
   "metadata": {
    "collapsed": false
   },
   "outputs": [],
   "source": [
    "import os\n",
    "import numpy as np\n",
    "import time\n",
    "import cv2\n",
    "from __future__ import print_function"
   ]
  },
  {
   "cell_type": "markdown",
   "metadata": {},
   "source": [
    "## Loop"
   ]
  },
  {
   "cell_type": "code",
   "execution_count": 31,
   "metadata": {
    "collapsed": false
   },
   "outputs": [],
   "source": [
    "BW = False     # \n",
    "LOOP = True    # loop through videos\n",
    "CAM = True     # use camera feed\n",
    "\n",
    "# select video source\n",
    "if CAM:\n",
    "    cap = cv2.VideoCapture(0)\n",
    "else:\n",
    "    cap = cv2.VideoCapture('/media/data/Dropbox/Git/vid-viz/data/test.mp4')\n",
    "    \n",
    "# get video properties\n",
    "width = cap.get(3)\n",
    "height = cap.get(4)\n",
    "fps = cap.get(5)\n",
    "tot_fr_count = cap.get(7)\n",
    "\n",
    "fr_count = 0\n",
    "while(cap.isOpened()):\n",
    "\n",
    "    ret, frame = cap.read()\n",
    "\n",
    "    # use keyboard input to change effect\n",
    "    key = cv2.waitKey(1) & 0xFF\n",
    "    if key == ord('q'):\n",
    "        break\n",
    "    elif key == ord('s'):\n",
    "        BW = not BW\n",
    "        \n",
    "    if BW:\n",
    "        frame = cv2.cvtColor(frame, cv2.COLOR_BGR2GRAY)\n",
    "        \n",
    "    cv2.imshow('frame', frame)\n",
    "    \n",
    "    # reset video\n",
    "    fr_count += 1\n",
    "    if fr_count == tot_fr_count and LOOP:\n",
    "        # reset frame postion to zero\n",
    "        cap.set(2,0)\n",
    "        fr_count = 0\n",
    "    \n",
    "cap.release()\n",
    "cv2.destroyWindow('frame')"
   ]
  },
  {
   "cell_type": "code",
   "execution_count": 2,
   "metadata": {
    "collapsed": true
   },
   "outputs": [
    {
     "ename": "NameError",
     "evalue": "name 'dv2' is not defined",
     "output_type": "error",
     "traceback": [
      "\u001b[1;31m---------------------------------------------------------------------------\u001b[0m",
      "\u001b[1;31mNameError\u001b[0m                                 Traceback (most recent call last)",
      "\u001b[1;32m<ipython-input-2-13fcbfa9c3d4>\u001b[0m in \u001b[0;36m<module>\u001b[1;34m()\u001b[0m\n\u001b[0;32m      2\u001b[0m \u001b[0mcv2\u001b[0m\u001b[1;33m.\u001b[0m\u001b[0mimshow\u001b[0m\u001b[1;33m(\u001b[0m\u001b[1;34m'image'\u001b[0m\u001b[1;33m,\u001b[0m\u001b[0mimg\u001b[0m\u001b[1;33m)\u001b[0m\u001b[1;33m\u001b[0m\u001b[0m\n\u001b[0;32m      3\u001b[0m \u001b[0mcv2\u001b[0m\u001b[1;33m.\u001b[0m\u001b[0mwaitKey\u001b[0m\u001b[1;33m(\u001b[0m\u001b[1;36m0\u001b[0m\u001b[1;33m)\u001b[0m\u001b[1;33m\u001b[0m\u001b[0m\n\u001b[1;32m----> 4\u001b[1;33m \u001b[0mdv2\u001b[0m\u001b[1;33m.\u001b[0m\u001b[0mdestroyAllWindows\u001b[0m\u001b[1;33m(\u001b[0m\u001b[1;33m)\u001b[0m\u001b[1;33m\u001b[0m\u001b[0m\n\u001b[0m",
      "\u001b[1;31mNameError\u001b[0m: name 'dv2' is not defined"
     ]
    }
   ],
   "source": [
    "img = cv2.imread('/media/data/Dropbox/Git/vid-viz/data/test.jpg',0)\n",
    "cv2.imshow('image',img)\n",
    "cv2.waitKey(0)\n",
    "cv2.destroyAllWindows()"
   ]
  },
  {
   "cell_type": "code",
   "execution_count": 29,
   "metadata": {
    "collapsed": false
   },
   "outputs": [
    {
     "name": "stdout",
     "output_type": "stream",
     "text": [
      "Variable         Type                   Data/Info\n",
      "-------------------------------------------------\n",
      "BW               bool                   False\n",
      "CAM              bool                   False\n",
      "LOOP             bool                   True\n",
      "cap              VideoCapture           <VideoCapture 0x7f90c4304e30>\n",
      "cv2              module                 <module 'cv2' from '/usr/<...>.7/dist-packages/cv2.so'>\n",
      "fps              float                  30.0\n",
      "fr_count         int                    1029\n",
      "frame            NoneType               None\n",
      "gray             ndarray                480x640: 307200 elems, type `uint8`, 307200 bytes (300 kb)\n",
      "height           float                  616.0\n",
      "key              int                    255\n",
      "np               module                 <module 'numpy' from '/us<...>ages/numpy/__init__.pyc'>\n",
      "os               module                 <module 'os' from '/usr/lib/python2.7/os.pyc'>\n",
      "print_function   __future__._Feature    _Feature((2, 6, 0, 'alpha<...>0, 0, 'alpha', 0), 65536)\n",
      "ret              bool                   False\n",
      "time             module                 <module 'time' (built-in)>\n",
      "tot_fr_count     float                  828601953.0\n",
      "width            float                  1096.0\n"
     ]
    }
   ],
   "source": [
    "whos"
   ]
  }
 ],
 "metadata": {
  "kernelspec": {
   "display_name": "Python 2",
   "language": "python",
   "name": "python2"
  },
  "language_info": {
   "codemirror_mode": {
    "name": "ipython",
    "version": 2
   },
   "file_extension": ".py",
   "mimetype": "text/x-python",
   "name": "python",
   "nbconvert_exporter": "python",
   "pygments_lexer": "ipython2",
   "version": "2.7.12"
  }
 },
 "nbformat": 4,
 "nbformat_minor": 0
}
