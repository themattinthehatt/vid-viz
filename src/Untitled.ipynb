{
 "cells": [
  {
   "cell_type": "markdown",
   "metadata": {},
   "source": [
    "## Setup"
   ]
  },
  {
   "cell_type": "code",
   "execution_count": 1,
   "metadata": {
    "collapsed": false
   },
   "outputs": [],
   "source": [
    "import os\n",
    "import numpy as np\n",
    "import time\n",
    "import cv2\n",
    "from __future__ import print_function"
   ]
  },
  {
   "cell_type": "markdown",
   "metadata": {},
   "source": [
    "## Loop"
   ]
  },
  {
   "cell_type": "code",
   "execution_count": 77,
   "metadata": {
    "collapsed": false
   },
   "outputs": [
    {
     "name": "stdout",
     "output_type": "stream",
     "text": [
      "014 fps"
     ]
    }
   ],
   "source": [
    "USE_CAM = True\n",
    "LOOP = True    # loop through videos\n",
    "DISP_BW = False\n",
    "DISP_R_CHAN = True\n",
    "DISP_G_CHAN = True\n",
    "DISP_B_CHAN = True\n",
    "DISP_BORDER = 0\n",
    "\n",
    "THRESH = False\n",
    "THRESH_STYLE = 0\n",
    "USE_ALL_CHAN = True\n",
    "USE_R_CHAN = False\n",
    "USE_G_CHAN = False\n",
    "USE_B_CHAN = False\n",
    "\n",
    "\n",
    "# select video source\n",
    "if USE_CAM:\n",
    "    cap = cv2.VideoCapture(0)\n",
    "else:\n",
    "    cap = cv2.VideoCapture('/media/data/Dropbox/Git/vid-viz/data/test.mp4')\n",
    "    \n",
    "# get video properties\n",
    "im_width = cap.get(cv2.CAP_PROP_FRAME_WIDTH)\n",
    "im_height = cap.get(cv2.CAP_PROP_FRAME_HEIGHT)\n",
    "target_fps = cap.get(cv2.CAP_PROP_FPS)\n",
    "tot_fr_count = cap.get(cv2.CAP_PROP_FRAME_COUNT)\n",
    "\n",
    "fr_count = 0\n",
    "while(cap.isOpened()):\n",
    "\n",
    "    time_pre = time.time()\n",
    "    \n",
    "    ret, frame = cap.read()\n",
    "\n",
    "    # use keyboard input to change effect\n",
    "    key = cv2.waitKey(1) & 0xFF\n",
    "    if key == ord('q'):\n",
    "        break\n",
    "    elif key == ord('s'):\n",
    "        # toggle color\n",
    "        DISP_BW = not DISP_BW\n",
    "    elif key == ord('r'):\n",
    "        DISP_R_CHAN = not DISP_R_CHAN\n",
    "        # for thresholding\n",
    "        USE_ALL_CHAN = False\n",
    "        USE_R_CHAN = True\n",
    "        USE_G_CHAN = False\n",
    "        USE_B_CHAN = False\n",
    "    elif key == ord('g'):\n",
    "        DISP_G_CHAN = not DISP_G_CHAN\n",
    "        # for thresholding\n",
    "        USE_ALL_CHAN = False\n",
    "        USE_R_CHAN = False\n",
    "        USE_G_CHAN = True\n",
    "        USE_B_CHAN = False\n",
    "    elif key == ord('b'):\n",
    "        DISP_B_CHAN = not DISP_B_CHAN\n",
    "        # for thresholding\n",
    "        USE_ALL_CHAN = False\n",
    "        USE_R_CHAN = False\n",
    "        USE_G_CHAN = False\n",
    "        USE_B_CHAN = True\n",
    "    elif key == ord('z'):\n",
    "        DISP_BORDER = (DISP_BORDER + 1) % 3\n",
    "    elif key == ord('t'):\n",
    "        THRESH = not THRESH\n",
    "        USE_ALL_CHAN = True\n",
    "        DISP_R_CHAN = True\n",
    "        DISP_G_CHAN = True\n",
    "        DISP_B_CHAN = True\n",
    "    elif key == ord('y'):\n",
    "        THRESH_STYLE = (THRESH_STYLE + 1) % 2\n",
    "    elif key == ord('v'):\n",
    "        USE_ALL_CHAN = True\n",
    "        \n",
    "        \n",
    "    # implement effects\n",
    "    if not THRESH:\n",
    "        if not DISP_R_CHAN:\n",
    "            frame[:,:,2] = 0\n",
    "        if not DISP_G_CHAN:\n",
    "            frame[:,:,1] = 0\n",
    "        if not DISP_B_CHAN:\n",
    "            frame[:,:,0] = 0\n",
    "    if DISP_BW:\n",
    "        frame = cv2.cvtColor(frame, cv2.COLOR_BGR2GRAY)\n",
    "    if DISP_BORDER == 1:\n",
    "        # top, bottom, left, right\n",
    "        frame = cv2.copyMakeBorder(frame, int(im_height/4), int(im_height/4),\n",
    "                                          int(im_width/4), int(im_width/4),\n",
    "                                          cv2.BORDER_WRAP)\n",
    "    elif DISP_BORDER == 2:\n",
    "        # top, bottom, left, right\n",
    "        frame = cv2.copyMakeBorder(frame, int(im_height/2), 0,\n",
    "                                          int(im_width/2), 0,\n",
    "                                          cv2.BORDER_REFLECT)\n",
    "    if THRESH:\n",
    "        \n",
    "        # BINARY | BINARY_INV | TRUNC | TOZERO | TOZERO_INV\n",
    "        if THRESH_STYLE == 0:\n",
    "            THRESH_TYPE = cv2.THRESH_BINARY\n",
    "        elif THRESH_STYLE == 1:\n",
    "            THRESH_TYPE = cv2.THRESH_BINARY_INV\n",
    "            \n",
    "        # MEAN_C | GAUSSIAN_C\n",
    "        ADAPTIVE_THRESH_TYPE = cv2.ADAPTIVE_THRESH_MEAN_C\n",
    "        THRESH_CEIL = 255\n",
    "        THRESH_BLOCK = 15\n",
    "        THRESH_C = 4\n",
    "        \n",
    "        if USE_ALL_CHAN:\n",
    "            frame = cv2.cvtColor(frame, cv2.COLOR_BGR2GRAY)\n",
    "            frame = cv2.adaptiveThreshold(frame, THRESH_CEIL, \n",
    "                                          ADAPTIVE_THRESH_TYPE, THRESH_TYPE, \n",
    "                                          THRESH_BLOCK, THRESH_C)\n",
    "        elif USE_R_CHAN:\n",
    "            gray_frame = cv2.cvtColor(frame, cv2.COLOR_BGR2GRAY)\n",
    "            # zero out blue channel, threshold red channel\n",
    "            frame[:,:,0] = 0\n",
    "            frame[:,:,2] = cv2.adaptiveThreshold(gray_frame, THRESH_CEIL, \n",
    "                                                 ADAPTIVE_THRESH_TYPE, THRESH_TYPE, \n",
    "                                                 THRESH_BLOCK, THRESH_C)\n",
    "        elif USE_G_CHAN:\n",
    "            gray_frame = cv2.cvtColor(frame, cv2.COLOR_BGR2GRAY)\n",
    "            # zero out red channel, threshold green channel\n",
    "            frame[:,:,2] = 0\n",
    "            frame[:,:,1] = cv2.adaptiveThreshold(gray_frame, THRESH_CEIL,\n",
    "                                                 ADAPTIVE_THRESH_TYPE, THRESH_TYPE,\n",
    "                                                 THRESH_BLOCK, THRESH_C)\n",
    "        elif USE_B_CHAN:\n",
    "            gray_frame = cv2.cvtColor(frame, cv2.COLOR_BGR2GRAY)\n",
    "            # zero out green channel, threshold red channel\n",
    "            frame[:,:,1] = 0\n",
    "            frame[:,:,0] = cv2.adaptiveThreshold(gray_frame, THRESH_CEIL,\n",
    "                                                 ADAPTIVE_THRESH_TYPE, THRESH_TYPE,\n",
    "                                                 THRESH_BLOCK, THRESH_C)\n",
    "    \n",
    "    # display image\n",
    "    cv2.imshow('frame', frame)\n",
    "    \n",
    "    # reset video\n",
    "    fr_count += 1\n",
    "    if fr_count == tot_fr_count and LOOP:\n",
    "        # reset frame postion to zero\n",
    "        cap.set(2,0)\n",
    "        fr_count = 0\n",
    "    \n",
    "    # calculate, limit and output fps\n",
    "    time_post = time.time()\n",
    "    time_tot = time_post - time_pre\n",
    "    if time_tot < 1/target_fps:\n",
    "        time.sleep(1/target_fps - time_tot)\n",
    "    time_post = time.time()\n",
    "    time_tot = time_post - time_pre\n",
    "    fps = 1.0 / time_tot\n",
    "    print('\\r%03i fps' % fps, end='')\n",
    "    \n",
    "    \n",
    "cap.release()\n",
    "cv2.destroyWindow('frame')"
   ]
  },
  {
   "cell_type": "code",
   "execution_count": 28,
   "metadata": {
    "collapsed": false
   },
   "outputs": [
    {
     "name": "stdout",
     "output_type": "stream",
     "text": [
      "['COLOR_BAYER_BG2BGR', 'COLOR_BAYER_BG2BGR_EA']\n"
     ]
    }
   ],
   "source": [
    "flags = [i for i in dir(cv2) if i.startswith('COLOR_')]\n",
    "print(flags[:2])"
   ]
  },
  {
   "cell_type": "code",
   "execution_count": 2,
   "metadata": {
    "collapsed": false
   },
   "outputs": [
    {
     "data": {
      "text/plain": [
       "dtype('uint8')"
      ]
     },
     "execution_count": 2,
     "metadata": {},
     "output_type": "execute_result"
    }
   ],
   "source": [
    "img = cv2.imread('/media/data/Dropbox/Git/vid-viz/data/test.jpg', 0) \n",
    "img.dtype"
   ]
  },
  {
   "cell_type": "code",
   "execution_count": 2,
   "metadata": {
    "collapsed": true
   },
   "outputs": [
    {
     "ename": "NameError",
     "evalue": "name 'dv2' is not defined",
     "output_type": "error",
     "traceback": [
      "\u001b[1;31m---------------------------------------------------------------------------\u001b[0m",
      "\u001b[1;31mNameError\u001b[0m                                 Traceback (most recent call last)",
      "\u001b[1;32m<ipython-input-2-13fcbfa9c3d4>\u001b[0m in \u001b[0;36m<module>\u001b[1;34m()\u001b[0m\n\u001b[0;32m      2\u001b[0m \u001b[0mcv2\u001b[0m\u001b[1;33m.\u001b[0m\u001b[0mimshow\u001b[0m\u001b[1;33m(\u001b[0m\u001b[1;34m'image'\u001b[0m\u001b[1;33m,\u001b[0m\u001b[0mimg\u001b[0m\u001b[1;33m)\u001b[0m\u001b[1;33m\u001b[0m\u001b[0m\n\u001b[0;32m      3\u001b[0m \u001b[0mcv2\u001b[0m\u001b[1;33m.\u001b[0m\u001b[0mwaitKey\u001b[0m\u001b[1;33m(\u001b[0m\u001b[1;36m0\u001b[0m\u001b[1;33m)\u001b[0m\u001b[1;33m\u001b[0m\u001b[0m\n\u001b[1;32m----> 4\u001b[1;33m \u001b[0mdv2\u001b[0m\u001b[1;33m.\u001b[0m\u001b[0mdestroyAllWindows\u001b[0m\u001b[1;33m(\u001b[0m\u001b[1;33m)\u001b[0m\u001b[1;33m\u001b[0m\u001b[0m\n\u001b[0m",
      "\u001b[1;31mNameError\u001b[0m: name 'dv2' is not defined"
     ]
    }
   ],
   "source": [
    "cv2.imshow('image',img)\n",
    "cv2.waitKey(0)\n",
    "cv2.destroyAllWindows()"
   ]
  },
  {
   "cell_type": "code",
   "execution_count": 4,
   "metadata": {
    "collapsed": false
   },
   "outputs": [
    {
     "name": "stdout",
     "output_type": "stream",
     "text": [
      "Variable         Type                   Data/Info\n",
      "-------------------------------------------------\n",
      "CAM              bool                   False\n",
      "DISP_BORDER      int                    0\n",
      "DISP_BW          bool                   False\n",
      "DISP_B_CHAN      bool                   True\n",
      "DISP_G_CHAN      bool                   True\n",
      "DISP_R_CHAN      bool                   True\n",
      "LOOP             bool                   True\n",
      "cap              VideoCapture           <VideoCapture 0x7f158d7016b0>\n",
      "cv2              module                 <module 'cv2' from '/usr/<...>.7/dist-packages/cv2.so'>\n",
      "fps              float                  29.8810679709\n",
      "fr_count         int                    132\n",
      "frame            ndarray                616x1096x3: 2025408 elems, type `uint8`, 2025408 bytes (1 Mb)\n",
      "im_height        float                  616.0\n",
      "im_width         float                  1096.0\n",
      "key              int                    113\n",
      "np               module                 <module 'numpy' from '/us<...>ages/numpy/__init__.pyc'>\n",
      "os               module                 <module 'os' from '/usr/lib/python2.7/os.pyc'>\n",
      "print_function   __future__._Feature    _Feature((2, 6, 0, 'alpha<...>0, 0, 'alpha', 0), 65536)\n",
      "ret              bool                   True\n",
      "target_fps       float                  30.0\n",
      "time             module                 <module 'time' (built-in)>\n",
      "time_post        long                   775176457779\n",
      "time_pre         long                   775176695890\n",
      "time_tot         float                  0.033466006\n",
      "tot_fr_count     float                  1028.0\n"
     ]
    }
   ],
   "source": [
    "whos"
   ]
  }
 ],
 "metadata": {
  "kernelspec": {
   "display_name": "Python 2",
   "language": "python",
   "name": "python2"
  },
  "language_info": {
   "codemirror_mode": {
    "name": "ipython",
    "version": 2
   },
   "file_extension": ".py",
   "mimetype": "text/x-python",
   "name": "python",
   "nbconvert_exporter": "python",
   "pygments_lexer": "ipython2",
   "version": "2.7.12"
  }
 },
 "nbformat": 4,
 "nbformat_minor": 0
}
