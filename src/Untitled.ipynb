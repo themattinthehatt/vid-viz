{
 "cells": [
  {
   "cell_type": "markdown",
   "metadata": {},
   "source": [
    "## Setup"
   ]
  },
  {
   "cell_type": "code",
   "execution_count": 1,
   "metadata": {
    "collapsed": false
   },
   "outputs": [],
   "source": [
    "import os\n",
    "import numpy as np\n",
    "import time\n",
    "import cv2\n",
    "from __future__ import print_function"
   ]
  },
  {
   "cell_type": "markdown",
   "metadata": {},
   "source": [
    "## Loop"
   ]
  },
  {
   "cell_type": "code",
   "execution_count": 95,
   "metadata": {
    "collapsed": false
   },
   "outputs": [
    {
     "name": "stdout",
     "output_type": "stream",
     "text": [
      "014 fps"
     ]
    }
   ],
   "source": [
    "USE_CAM = 1\n",
    "LOOP = True    # loop through videos\n",
    "DISP_BW = False\n",
    "\n",
    "BORDER_STYLE = 0\n",
    "\n",
    "THRESH = False\n",
    "THRESH_STYLE = 0\n",
    "USE_ALL_CHAN = True\n",
    "USE_R_CHAN = False\n",
    "USE_G_CHAN = False\n",
    "USE_B_CHAN = False\n",
    "\n",
    "GRAD_STYLE = 0\n",
    "\n",
    "# select video source\n",
    "if USE_CAM:\n",
    "    cap = cv2.VideoCapture(0)\n",
    "else:\n",
    "    cap = cv2.VideoCapture('/media/data/Dropbox/Git/vid-viz/data/test.mp4')\n",
    "    \n",
    "# get video properties\n",
    "im_width = int(cap.get(cv2.CAP_PROP_FRAME_WIDTH))\n",
    "im_height = int(cap.get(cv2.CAP_PROP_FRAME_HEIGHT))\n",
    "target_fps = cap.get(cv2.CAP_PROP_FPS)\n",
    "tot_fr_count = int(cap.get(cv2.CAP_PROP_FRAME_COUNT))\n",
    "\n",
    "fr_count = 0\n",
    "while(cap.isOpened()):\n",
    "\n",
    "    time_pre = time.time()\n",
    "    \n",
    "    ret, frame = cap.read()\n",
    "\n",
    "    # use keyboard input to change effect\n",
    "    key = cv2.waitKey(1) & 0xFF\n",
    "    if key == ord('q'):\n",
    "        break\n",
    "    elif key == ord('s'):\n",
    "        # toggle color\n",
    "        DISP_BW = not DISP_BW\n",
    "    elif key == ord('z'):\n",
    "        BORDER_STYLE = (BORDER_STYLE + 1) % 3\n",
    "    elif key == ord('t'):\n",
    "        THRESH = not THRESH\n",
    "    elif key == ord('y'):\n",
    "        THRESH_STYLE = (THRESH_STYLE + 1) % 2\n",
    "    elif key == ord('r'):\n",
    "        # for thresholding\n",
    "        USE_ALL_CHAN = False\n",
    "        USE_R_CHAN = True\n",
    "        USE_G_CHAN = False\n",
    "        USE_B_CHAN = False\n",
    "    elif key == ord('g'):\n",
    "        # for thresholding\n",
    "        USE_ALL_CHAN = False\n",
    "        USE_R_CHAN = False\n",
    "        USE_G_CHAN = True\n",
    "        USE_B_CHAN = False\n",
    "    elif key == ord('b'):\n",
    "        # for thresholding\n",
    "        USE_ALL_CHAN = False\n",
    "        USE_R_CHAN = False\n",
    "        USE_G_CHAN = False\n",
    "        USE_B_CHAN = True\n",
    "    elif key == ord('v'):\n",
    "        USE_ALL_CHAN = True\n",
    "        USE_R_CHAN = False\n",
    "        USE_G_CHAN = False\n",
    "        USE_B_CHAN = False\n",
    "    elif key == ord('m'):\n",
    "        GRAD_STYLE = (GRAD_STYLE + 1) % 2        \n",
    "        \n",
    "    # implement effects \n",
    "    if DISP_BW:\n",
    "        frame = cv2.cvtColor(frame, cv2.COLOR_BGR2GRAY)\n",
    "        \n",
    "#     tx = fr_count % im_height\n",
    "#     ty = fr_count % im_height\n",
    "#     M = np.float32([[1, 0, tx], [0, 1, ty]])\n",
    "#     frame = cv2.warpAffine(frame, M, (im_width, im_height))\n",
    "    \n",
    "    if BORDER_STYLE == 0:\n",
    "        frame = cv2.resize(frame, (1*im_width, 1*im_height), \n",
    "                           interpolation=cv2.INTER_LINEAR)\n",
    "    elif BORDER_STYLE == 1:\n",
    "        # top, bottom, left, right\n",
    "        frame = cv2.copyMakeBorder(frame, int(im_height/2), int(im_height/2),\n",
    "                                          int(im_width/2), int(im_width/2),\n",
    "                                          cv2.BORDER_WRAP)\n",
    "    elif BORDER_STYLE == 2:\n",
    "        # top, bottom, left, right\n",
    "        frame = cv2.copyMakeBorder(frame, im_height, 0,\n",
    "                                          im_width, 0,\n",
    "                                          cv2.BORDER_REFLECT)\n",
    "\n",
    "        \n",
    "    if THRESH:\n",
    "        \n",
    "        # BINARY | BINARY_INV | TRUNC | TOZERO | TOZERO_INV\n",
    "        if THRESH_STYLE == 0:\n",
    "            THRESH_TYPE = cv2.THRESH_BINARY\n",
    "        elif THRESH_STYLE == 1:\n",
    "            THRESH_TYPE = cv2.THRESH_BINARY_INV\n",
    "            \n",
    "        # MEAN_C | GAUSSIAN_C\n",
    "        ADAPTIVE_THRESH_TYPE = cv2.ADAPTIVE_THRESH_MEAN_C\n",
    "        THRESH_CEIL = 255\n",
    "        THRESH_BLOCK = 21\n",
    "        THRESH_C = 4\n",
    "        \n",
    "        if USE_ALL_CHAN:\n",
    "            gray_frame = cv2.cvtColor(frame, cv2.COLOR_BGR2GRAY)\n",
    "            gray_frame = cv2.adaptiveThreshold(gray_frame, THRESH_CEIL, \n",
    "                                          ADAPTIVE_THRESH_TYPE, THRESH_TYPE, \n",
    "                                          THRESH_BLOCK, THRESH_C)\n",
    "            frame[:,:,0] = gray_frame\n",
    "            frame[:,:,1] = gray_frame\n",
    "            frame[:,:,2] = gray_frame\n",
    "            frame = cv2.medianBlur(frame, 11)\n",
    "        elif USE_R_CHAN:\n",
    "            gray_frame = cv2.cvtColor(frame, cv2.COLOR_BGR2GRAY)\n",
    "            # zero out blue channel, threshold red channel\n",
    "            frame[:,:,0] = 0\n",
    "            frame[:,:,2] = cv2.adaptiveThreshold(gray_frame, THRESH_CEIL, \n",
    "                                                 ADAPTIVE_THRESH_TYPE, THRESH_TYPE, \n",
    "                                                 THRESH_BLOCK, THRESH_C)\n",
    "            frame = cv2.medianBlur(frame, 11)\n",
    "        elif USE_G_CHAN:\n",
    "            gray_frame = cv2.cvtColor(frame, cv2.COLOR_BGR2GRAY)\n",
    "            # zero out red channel, threshold green channel\n",
    "            frame[:,:,2] = 0\n",
    "            frame[:,:,1] = cv2.adaptiveThreshold(gray_frame, THRESH_CEIL,\n",
    "                                                 ADAPTIVE_THRESH_TYPE, THRESH_TYPE,\n",
    "                                                 THRESH_BLOCK, THRESH_C)\n",
    "            frame = cv2.medianBlur(frame, 11)\n",
    "        elif USE_B_CHAN:\n",
    "            gray_frame = cv2.cvtColor(frame, cv2.COLOR_BGR2GRAY)\n",
    "            # zero out green channel, threshold red channel\n",
    "            frame[:,:,1] = 0\n",
    "            frame[:,:,0] = cv2.adaptiveThreshold(gray_frame, THRESH_CEIL,\n",
    "                                                 ADAPTIVE_THRESH_TYPE, THRESH_TYPE,\n",
    "                                                 THRESH_BLOCK, THRESH_C)\n",
    "            frame = cv2.medianBlur(frame, 11)\n",
    "    \n",
    "#     if GRAD_STYLE == 1:\n",
    "#         grad = cv2.Sobel(frame, cv2.CV_16S, 1, 0, ksize=7)\n",
    "#     elif GRAD_STYLE == 2:\n",
    "#         grad = cv2.Sobel(frame, cv2.CV_16S, 0, 1, ksize=7)\n",
    "#     elif GRAD_STYLE == 3:\n",
    "#         grad = cv2.Scharr(frame, cv2.CV_16S, 1, 0)\n",
    "#     elif GRAD_STYLE == 4:\n",
    "#         grad = cv2.Scharr(frame, cv2.CV_16S, 0, 1)\n",
    "#     elif GRAD_STYLE == 5:\n",
    "#         grad = cv2.Laplacian(frame, cv2.CV_16S, ksize=7)\n",
    "#     elif GRAD_STYLE == 6:\n",
    "#         grad = cv2.Canny(frame, 100, 200)   \n",
    "\n",
    "    if GRAD_STYLE > 0:\n",
    "        grad = cv2.Canny(frame, 100, 200)  \n",
    "        if USE_R_CHAN:\n",
    "            frame[:,:,:2] = 0\n",
    "            frame[:,:,2] = grad\n",
    "        elif USE_G_CHAN:\n",
    "            frame[:,:,[0,2]] = 0\n",
    "            frame[:,:,1] = grad\n",
    "        elif USE_B_CHAN:\n",
    "            frame[:,:,1:3] = 0\n",
    "            frame[:,:,0] = grad\n",
    "        elif USE_ALL_CHAN:\n",
    "            frame = grad\n",
    "    \n",
    "    # display image\n",
    "    cv2.imshow('frame', frame)\n",
    "    \n",
    "    # reset video\n",
    "    fr_count += 1\n",
    "    if fr_count == tot_fr_count and LOOP:\n",
    "        # reset frame postion to zero\n",
    "        cap.set(2,0)\n",
    "        fr_count = 0\n",
    "    \n",
    "    # calculate, limit and output fps\n",
    "    time_post = time.time()\n",
    "    time_tot = time_post - time_pre\n",
    "    if time_tot < 1/target_fps:\n",
    "        time.sleep(1/target_fps - time_tot)\n",
    "    time_post = time.time()\n",
    "    time_tot = time_post - time_pre\n",
    "    fps = 1.0 / time_tot\n",
    "    print('\\r%03i fps' % fps, end='')\n",
    "    \n",
    "    \n",
    "cap.release()\n",
    "cv2.destroyWindow('frame')"
   ]
  },
  {
   "cell_type": "code",
   "execution_count": 28,
   "metadata": {
    "collapsed": false
   },
   "outputs": [
    {
     "name": "stdout",
     "output_type": "stream",
     "text": [
      "['COLOR_BAYER_BG2BGR', 'COLOR_BAYER_BG2BGR_EA']\n"
     ]
    }
   ],
   "source": [
    "flags = [i for i in dir(cv2) if i.startswith('COLOR_')]\n",
    "print(flags[:2])"
   ]
  },
  {
   "cell_type": "code",
   "execution_count": 2,
   "metadata": {
    "collapsed": false
   },
   "outputs": [
    {
     "data": {
      "text/plain": [
       "dtype('uint8')"
      ]
     },
     "execution_count": 2,
     "metadata": {},
     "output_type": "execute_result"
    }
   ],
   "source": [
    "img = cv2.imread('/media/data/Dropbox/Git/vid-viz/data/test.jpg', 0) \n",
    "img.dtype"
   ]
  },
  {
   "cell_type": "code",
   "execution_count": 2,
   "metadata": {
    "collapsed": true
   },
   "outputs": [
    {
     "ename": "NameError",
     "evalue": "name 'dv2' is not defined",
     "output_type": "error",
     "traceback": [
      "\u001b[1;31m---------------------------------------------------------------------------\u001b[0m",
      "\u001b[1;31mNameError\u001b[0m                                 Traceback (most recent call last)",
      "\u001b[1;32m<ipython-input-2-13fcbfa9c3d4>\u001b[0m in \u001b[0;36m<module>\u001b[1;34m()\u001b[0m\n\u001b[0;32m      2\u001b[0m \u001b[0mcv2\u001b[0m\u001b[1;33m.\u001b[0m\u001b[0mimshow\u001b[0m\u001b[1;33m(\u001b[0m\u001b[1;34m'image'\u001b[0m\u001b[1;33m,\u001b[0m\u001b[0mimg\u001b[0m\u001b[1;33m)\u001b[0m\u001b[1;33m\u001b[0m\u001b[0m\n\u001b[0;32m      3\u001b[0m \u001b[0mcv2\u001b[0m\u001b[1;33m.\u001b[0m\u001b[0mwaitKey\u001b[0m\u001b[1;33m(\u001b[0m\u001b[1;36m0\u001b[0m\u001b[1;33m)\u001b[0m\u001b[1;33m\u001b[0m\u001b[0m\n\u001b[1;32m----> 4\u001b[1;33m \u001b[0mdv2\u001b[0m\u001b[1;33m.\u001b[0m\u001b[0mdestroyAllWindows\u001b[0m\u001b[1;33m(\u001b[0m\u001b[1;33m)\u001b[0m\u001b[1;33m\u001b[0m\u001b[0m\n\u001b[0m",
      "\u001b[1;31mNameError\u001b[0m: name 'dv2' is not defined"
     ]
    }
   ],
   "source": [
    "cv2.imshow('image',img)\n",
    "cv2.waitKey(0)\n",
    "cv2.destroyAllWindows()"
   ]
  },
  {
   "cell_type": "code",
   "execution_count": 20,
   "metadata": {
    "collapsed": false
   },
   "outputs": [
    {
     "name": "stdout",
     "output_type": "stream",
     "text": [
      "Variable               Type                   Data/Info\n",
      "-------------------------------------------------------\n",
      "ADAPTIVE_THRESH_TYPE   int                    0\n",
      "BORDER_STYLE           int                    0\n",
      "DISP_BORDER            int                    1\n",
      "DISP_BW                bool                   False\n",
      "DISP_B_CHAN            bool                   True\n",
      "DISP_G_CHAN            bool                   True\n",
      "DISP_R_CHAN            bool                   True\n",
      "LOOP                   bool                   True\n",
      "M                      ndarray                2x3: 6 elems, type `float32`, 24 bytes\n",
      "MORPHO_STYLE           int                    0\n",
      "THRESH                 bool                   False\n",
      "THRESH_BLOCK           int                    21\n",
      "THRESH_C               int                    4\n",
      "THRESH_CEIL            int                    255\n",
      "THRESH_STYLE           int                    0\n",
      "THRESH_TYPE            int                    0\n",
      "USE_ALL_CHAN           bool                   True\n",
      "USE_B_CHAN             bool                   False\n",
      "USE_CAM                int                    0\n",
      "USE_G_CHAN             bool                   False\n",
      "USE_R_CHAN             bool                   False\n",
      "cap                    VideoCapture           <VideoCapture 0x7f3be105bf90>\n",
      "cv2                    module                 <module 'cv2' from '/usr/<...>.7/dist-packages/cv2.so'>\n",
      "fps                    float                  247.451563422\n",
      "fr_count               int                    133\n",
      "frame                  ndarray                616x1096x3: 2025408 elems, type `uint8`, 2025408 bytes (1 Mb)\n",
      "gray_frame             ndarray                1232x2192: 2700544 elems, type `uint8`, 2700544 bytes (2 Mb)\n",
      "im_height              int                    616\n",
      "im_width               int                    1096\n",
      "key                    int                    113\n",
      "np                     module                 <module 'numpy' from '/us<...>ages/numpy/__init__.pyc'>\n",
      "os                     module                 <module 'os' from '/usr/lib/python2.7/os.pyc'>\n",
      "print_function         __future__._Feature    _Feature((2, 6, 0, 'alpha<...>0, 0, 'alpha', 0), 65536)\n",
      "ret                    bool                   True\n",
      "target_fps             int                    30\n",
      "time                   module                 <module 'time' (built-in)>\n",
      "time_post              float                  1489471918.49\n",
      "time_pre               float                  1489471918.49\n",
      "time_tot               float                  0.00404119491577\n",
      "tot_fr_count           int                    1028\n",
      "tx                     int                    68\n",
      "ty                     int                    68\n"
     ]
    }
   ],
   "source": [
    "whos"
   ]
  }
 ],
 "metadata": {
  "kernelspec": {
   "display_name": "Python 2",
   "language": "python",
   "name": "python2"
  },
  "language_info": {
   "codemirror_mode": {
    "name": "ipython",
    "version": 2
   },
   "file_extension": ".py",
   "mimetype": "text/x-python",
   "name": "python",
   "nbconvert_exporter": "python",
   "pygments_lexer": "ipython2",
   "version": "2.7.12"
  }
 },
 "nbformat": 4,
 "nbformat_minor": 0
}
