{
 "cells": [
  {
   "cell_type": "markdown",
   "metadata": {},
   "source": [
    "## Setup"
   ]
  },
  {
   "cell_type": "code",
   "execution_count": 1,
   "metadata": {
    "collapsed": true
   },
   "outputs": [],
   "source": [
    "import os\n",
    "import numpy as np\n",
    "import time\n",
    "import cv2\n",
    "from __future__ import print_function"
   ]
  },
  {
   "cell_type": "markdown",
   "metadata": {},
   "source": [
    "## Loop"
   ]
  },
  {
   "cell_type": "code",
   "execution_count": 20,
   "metadata": {
    "collapsed": false
   },
   "outputs": [
    {
     "name": "stdout",
     "output_type": "stream",
     "text": [
      "cap not opened\n",
      "ad\n"
     ]
    },
    {
     "ename": "error",
     "evalue": "/io/opencv/modules/imgproc/src/color.cpp:9748: error: (-215) scn == 3 || scn == 4 in function cvtColor\n",
     "output_type": "error",
     "traceback": [
      "\u001b[1;31m---------------------------------------------------------------------------\u001b[0m",
      "\u001b[1;31merror\u001b[0m                                     Traceback (most recent call last)",
      "\u001b[1;32m<ipython-input-20-3508675afff2>\u001b[0m in \u001b[0;36m<module>\u001b[1;34m()\u001b[0m\n\u001b[0;32m     12\u001b[0m \u001b[1;33m\u001b[0m\u001b[0m\n\u001b[0;32m     13\u001b[0m     \u001b[1;32mprint\u001b[0m\u001b[1;33m(\u001b[0m\u001b[1;34m\"ad\"\u001b[0m\u001b[1;33m)\u001b[0m\u001b[1;33m\u001b[0m\u001b[0m\n\u001b[1;32m---> 14\u001b[1;33m     \u001b[0mgray\u001b[0m \u001b[1;33m=\u001b[0m \u001b[0mcv2\u001b[0m\u001b[1;33m.\u001b[0m\u001b[0mcvtColor\u001b[0m\u001b[1;33m(\u001b[0m\u001b[0mframe\u001b[0m\u001b[1;33m,\u001b[0m \u001b[0mcv2\u001b[0m\u001b[1;33m.\u001b[0m\u001b[0mCOLOR_BGR2GRAY\u001b[0m\u001b[1;33m)\u001b[0m\u001b[1;33m\u001b[0m\u001b[0m\n\u001b[0m\u001b[0;32m     15\u001b[0m \u001b[1;33m\u001b[0m\u001b[0m\n\u001b[0;32m     16\u001b[0m     \u001b[1;31m#cv2.imshow('frame',gray)\u001b[0m\u001b[1;33m\u001b[0m\u001b[1;33m\u001b[0m\u001b[0m\n",
      "\u001b[1;31merror\u001b[0m: /io/opencv/modules/imgproc/src/color.cpp:9748: error: (-215) scn == 3 || scn == 4 in function cvtColor\n"
     ]
    }
   ],
   "source": [
    "cap = cv2.VideoCapture('/media/data/Dropbox/Git/vid-viz/data/test.mp4')\n",
    "#cap = cv2.VideoCapture(0)\n",
    "\n",
    "if(cap.isOpened()):\n",
    "    print('cap opened')\n",
    "else:\n",
    "    print('cap not opened')\n",
    "    cap.open(0)\n",
    "    \n",
    "while(True): #cap.isOpened()):\n",
    "    ret, frame = cap.read()\n",
    "\n",
    "    print(\"ad\")\n",
    "    gray = cv2.cvtColor(frame, cv2.COLOR_BGR2GRAY)\n",
    "\n",
    "    #cv2.imshow('frame',gray)\n",
    "  #  if cv2.waitKey(1) & 0xFF == ord('q'):\n",
    "   #     break\n",
    "\n",
    "cap.release()\n",
    "# cv2.destroyAllWindows()"
   ]
  },
  {
   "cell_type": "code",
   "execution_count": 40,
   "metadata": {
    "collapsed": false
   },
   "outputs": [
    {
     "name": "stdout",
     "output_type": "stream",
     "text": [
      "Variable         Type                   Data/Info\n",
      "-------------------------------------------------\n",
      "FFMPEG_BIN       str                    ffmpeg\n",
      "cap              VideoCapture           <VideoCapture 0x7f3b9d0305f0>\n",
      "command          list                   n=10\n",
      "cv2              module                 <module 'cv2.cv2' from '/<...>ist-packages/cv2/cv2.so'>\n",
      "filename         str                    /media/data/Dropbox/Git/vid-viz/data/test.mp4\n",
      "frame            NoneType               None\n",
      "get_video_size   function               <function get_video_size at 0x7f3ba541c5f0>\n",
      "image            ndarray                360x420x3: 453600 elems, type `uint8`, 453600 bytes (442 kb)\n",
      "infos            str                    ffmpeg version 2.8.11-0ub<...> such file or directory\\n\n",
      "np               module                 <module 'numpy' from '/us<...>ages/numpy/__init__.pyc'>\n",
      "os               module                 <module 'os' from '/usr/lib/python2.7/os.pyc'>\n",
      "pipe             Popen                  <subprocess.Popen object at 0x7f3ba54935d0>\n",
      "print_function   __future__._Feature    _Feature((2, 6, 0, 'alpha<...>0, 0, 'alpha', 0), 65536)\n",
      "proc             Popen                  <subprocess.Popen object at 0x7f3ba5461310>\n",
      "raw_image        str                    ��Έ�·�͇�͇�˅�Ʌ�ɇ�ˇ<...>\u0000gJ\u0000gJ\u0000gJ\u0000gJ\u0000gJ\u0000gJ\u0000gJ\u0000gJ\u0000\n",
      "res              NoneType               None\n",
      "ret              bool                   False\n",
      "sp               module                 <module 'subprocess' from<...>ython2.7/subprocess.pyc'>\n",
      "sz               list                   n=2\n",
      "time             module                 <module 'time' (built-in)>\n"
     ]
    }
   ],
   "source": [
    "whos"
   ]
  },
  {
   "cell_type": "code",
   "execution_count": 46,
   "metadata": {
    "collapsed": false
   },
   "outputs": [
    {
     "data": {
      "image/png": "[encoded data removed]",
      "text/plain": [
       "<matplotlib.figure.Figure at 0x7f3b6010cb10>"
      ]
     },
     "metadata": {},
     "output_type": "display_data"
    }
   ],
   "source": [
    "import subprocess as sp\n",
    "import matplotlib.pyplot as plt\n",
    "%matplotlib inline\n",
    "\n",
    "FFMPEG_BIN = 'ffmpeg'\n",
    "\n",
    "filename = '/media/data/Dropbox/Git/vid-viz/data/test.mp4'\n",
    "\n",
    "command = [ FFMPEG_BIN,\n",
    "            '-i', filename,\n",
    "            '-f', 'image2pipe',\n",
    "            '-pix_fmt', 'rgb24',\n",
    "            '-vcodec', 'rawvideo', '-']\n",
    "pipe = sp.Popen(command, stdout=sp.PIPE, bufsize=10**8)\n",
    "\n",
    "# read 1 frame\n",
    "sz = get_video_size(filename)\n",
    "raw_image = pipe.stdout.read(sz[0]*sz[1]*3)\n",
    "\n",
    "# transform the byte read into a numpy array\n",
    "image =  np.fromstring(raw_image, dtype='uint8')\n",
    "image = image.reshape((sz[0],sz[1],3))\n",
    "\n",
    "# throw away the data in the pipe's buffer.\n",
    "pipe.stdout.flush()\n",
    "\n",
    "plt.imshow(image)\n",
    "\n",
    "pipe.terminate()"
   ]
  },
  {
   "cell_type": "code",
   "execution_count": 38,
   "metadata": {
    "collapsed": false
   },
   "outputs": [],
   "source": [
    "# http://stackoverflow.com/questions/7362130/getting-video-dimension-from-ffmpeg-i\n",
    "\n",
    "def get_video_size(video_filename):\n",
    "    \n",
    "    \"\"\"Returns width, height of video using ffprobe\"\"\"\n",
    "    # Video duration and hence start time\n",
    "    proc = sp.Popen(['ffprobe', video_filename],\n",
    "        stdout=sp.PIPE, stderr=sp.STDOUT)\n",
    "    res = proc.communicate()[0]\n",
    "\n",
    "    # Check if ffprobe failed, probably on a bad file\n",
    "    if 'Invalid data found when processing input' in res:\n",
    "        raise ValueError(\"Invalid data found by ffprobe in %s\" % video_filename)\n",
    "\n",
    "    # Find the video stream\n",
    "    width_height_l = []\n",
    "    for line in res.split(\"\\n\"):\n",
    "        # Skip lines that aren't stream info\n",
    "        if not line.strip().startswith(\"Stream #\"):\n",
    "            continue\n",
    "\n",
    "        # Check that this is a video stream\n",
    "        comma_split = line.split(',')\n",
    "        if \" Video: \" not in comma_split[0]:\n",
    "            continue\n",
    "\n",
    "        # The third group should contain the size and aspect ratio\n",
    "        if len(comma_split) < 3:\n",
    "            raise ValueError(\"malform video stream string:\", line)\n",
    "\n",
    "        # The third group should contain the size and aspect, separated\n",
    "        # by spaces\n",
    "        size_and_aspect = comma_split[2].split()        \n",
    "        if len(size_and_aspect) == 0:\n",
    "            raise ValueError(\"malformed size/aspect:\", comma_split[2])\n",
    "        size_string = size_and_aspect[0]\n",
    "\n",
    "        # The size should be two numbers separated by x\n",
    "        width_height = size_string.split('x')\n",
    "        if len(width_height) != 2:\n",
    "            raise ValueError(\"malformed size string:\", size_string)\n",
    "\n",
    "        # Cast to int\n",
    "        width_height_l.append(map(int, width_height))\n",
    "\n",
    "#     if len(width_height_l) > 1:\n",
    "#         print \"warning: multiple video streams found, returning first\"\n",
    "        \n",
    "    return width_height_l[0]"
   ]
  }
 ],
 "metadata": {
  "kernelspec": {
   "display_name": "Python 2",
   "language": "python",
   "name": "python2"
  },
  "language_info": {
   "codemirror_mode": {
    "name": "ipython",
    "version": 2
   },
   "file_extension": ".py",
   "mimetype": "text/x-python",
   "name": "python",
   "nbconvert_exporter": "python",
   "pygments_lexer": "ipython2",
   "version": "2.7.12"
  }
 },
 "nbformat": 4,
 "nbformat_minor": 0
}
