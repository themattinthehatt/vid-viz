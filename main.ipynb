{
 "cells": [
  {
   "cell_type": "code",
   "execution_count": 1,
   "metadata": {
    "collapsed": true
   },
   "outputs": [],
   "source": [
    "import cv2\n",
    "import time\n",
    "import src.viztools as vv\n",
    "from __future__ import print_function"
   ]
  },
  {
   "cell_type": "markdown",
   "metadata": {
    "collapsed": false
   },
   "source": [
    " ### TODO\n",
    " * set up patrol cycle option"
   ]
  },
  {
   "cell_type": "code",
   "execution_count": 126,
   "metadata": {
    "collapsed": false
   },
   "outputs": [
    {
     "data": {
      "text/plain": [
       "<module 'src.viztools' from 'src/viztools.py'>"
      ]
     },
     "execution_count": 126,
     "metadata": {},
     "output_type": "execute_result"
    }
   ],
   "source": [
    "reload(vv)"
   ]
  },
  {
   "cell_type": "code",
   "execution_count": null,
   "metadata": {
    "collapsed": false
   },
   "outputs": [
    {
     "name": "stdout",
     "output_type": "stream",
     "text": [
      "019 fps"
     ]
    }
   ],
   "source": [
    "\"\"\"\n",
    "Run vid-viz\n",
    "\n",
    "KEYBOARD INPUTS:\n",
    "    number keys - choose effect (see viztools.py for detailed keyboard input for each effect)\n",
    "        0 - thresholding\n",
    "        1 - alien\n",
    "        3 - rgbwalk\n",
    "        4 - rgbburst\n",
    "    q - quit effect (then number keys are once again available for choosing a new effect)\n",
    "    ` - enable toggling of border effects ('n' to toggle)\n",
    "    esc - exit loop\n",
    "\"\"\"\n",
    "\n",
    "\n",
    "# general parameters\n",
    "USE_CAM = 0\n",
    "DISP_FULL_SCREEN = 0\n",
    "LOOP = 1 # 1 to loop, 0 to patrol cycle\n",
    "\n",
    "# select video source\n",
    "if USE_CAM:\n",
    "    cap = cv2.VideoCapture(0)\n",
    "else:\n",
    "#     cap = cv2.VideoCapture(0)\n",
    "#     cap = cv2.VideoCapture('/media/data/Dropbox/Git/vid-viz/data/tunnel_01.mp4')\n",
    "#     cap = cv2.VideoCapture('/home/mattw/Videos/2016-12-18 23-15-59.mp4')\n",
    "#     cap = cv2.VideoCapture('/home/mattw/Videos/2016-08-26 02-48-16.mp4')\n",
    "    cap = cv2.VideoCapture('/media/data/Dropbox/Git/vid-viz/data/snowflake_01.mp4')\n",
    "    \n",
    "# get video properties\n",
    "# target_fps = cap.get(cv2.CAP_PROP_FPS)\n",
    "target_fps = 20.0\n",
    "tot_fr_count = int(cap.get(cv2.CAP_PROP_FRAME_COUNT))\n",
    "\n",
    "# initialize key handler\n",
    "effect_index = None\n",
    "post_process = False\n",
    "key_list = [False for i in range(256)]\n",
    "\n",
    "# initialize processing objects\n",
    "effects = [vv.Threshold(),\n",
    "           vv.Alien(),\n",
    "           vv.RGBWalk(),\n",
    "           vv.RGBBurst()]\n",
    "num_effects = len(effects)\n",
    "border = vv.Border()\n",
    "\n",
    "fr_count = 0\n",
    "while(cap.isOpened()):\n",
    "\n",
    "    time_pre = time.time()\n",
    "    \n",
    "    # get frame and relevant info\n",
    "    ret, frame = cap.read()\n",
    "    \n",
    "    if USE_CAM:\n",
    "        # crop image to have same aspect ratio as monitor\n",
    "        frame = frame[60:-60,:,:]\n",
    "\n",
    "    # get keyboard input\n",
    "    key = cv2.waitKey(1) & 0xFF\n",
    "    key_list[key] = True\n",
    "    if key == 27:\n",
    "        # escape key\n",
    "        break\n",
    "    elif key == ord('q'):\n",
    "        # quit current effect\n",
    "        effect_index = None\n",
    "    elif key == ord('`'):\n",
    "        post_process = not post_process\n",
    "        \n",
    "    if effect_index is None:\n",
    "        for num in range(10):\n",
    "            if key == ord(str(num)):\n",
    "                effect_index = num\n",
    "                key_list[key] = False\n",
    "        \n",
    "    # process frame\n",
    "    if effect_index is not None and effect_index < num_effects:\n",
    "        frame = effects[effect_index].process(frame, key_list)\n",
    "    \n",
    "    # apply borders last to save processing time\n",
    "    if post_process:\n",
    "        frame = border.process(frame, key_list)\n",
    "\n",
    "    # display frame\n",
    "    if DISP_FULL_SCREEN:\n",
    "        cv2.namedWindow('frame', cv2.WND_PROP_FULLSCREEN)\n",
    "        cv2.setWindowProperty('frame', cv2.WND_PROP_FULLSCREEN, cv2.WINDOW_FULLSCREEN)\n",
    "        cv2.imshow('frame', frame)\n",
    "    else:\n",
    "        cv2.imshow('frame', frame)\n",
    "        if fr_count == 0:\n",
    "            cv2.moveWindow('frame', 0, 0)\n",
    "    \n",
    "    # reset video\n",
    "    fr_count += 1\n",
    "    if LOOP:\n",
    "        if fr_count == tot_fr_count:\n",
    "            # reset frame postion to zero\n",
    "            cap.set(cv2.CAP_PROP_POS_FRAMES,1)\n",
    "            fr_count = 1\n",
    "    else:\n",
    "        if fr_count == tot_fr_count:\n",
    "            # reset frame postion to zero\n",
    "            cap.set(cv2.CAP_PROP_POS_FRAMES,1)\n",
    "            fr_count = 1        \n",
    "    \n",
    "    # calculate, limit and output fps\n",
    "    time_tot = time.time() - time_pre\n",
    "    if time_tot < 1/target_fps:\n",
    "        time.sleep(1/target_fps - time_tot)\n",
    "    time_tot = time.time() - time_pre\n",
    "    print('\\r%03i fps' % (1.0 / time_tot), end='')\n",
    "    \n",
    "    # reset key list (for pressed keys that are not reset by effect object(s))\n",
    "    key_list[key] = False\n",
    "    \n",
    "cap.release()\n",
    "cv2.destroyWindow('frame')"
   ]
  },
  {
   "cell_type": "code",
   "execution_count": 119,
   "metadata": {
    "collapsed": false
   },
   "outputs": [
    {
     "name": "stdout",
     "output_type": "stream",
     "text": [
      "The slowest run took 133.82 times longer than the fastest. This could mean that an intermediate result is being cached.\n",
      "10000000 loops, best of 3: 183 ns per loop\n"
     ]
    }
   ],
   "source": [
    "%timeit cap.set(cv2.CAP_PROP_POS_FRAMES,1)"
   ]
  },
  {
   "cell_type": "code",
   "execution_count": 68,
   "metadata": {
    "collapsed": false
   },
   "outputs": [
    {
     "name": "stdout",
     "output_type": "stream",
     "text": [
      "100 loops, best of 3: 2.51 ms per loop\n"
     ]
    }
   ],
   "source": [
    "img1 = cv2.imread('/media/data/Dropbox/Git/vid-viz/data/test_img.png')\n",
    "\n",
    "# img0 = 0\n",
    "# img2 = cv2.addWeighted(img0, 0.1, img1, 0.9, 0)\n",
    "# %timeit cv2.addWeighted(img0, 0.1, img1, 0.9, 0)\n",
    "\n",
    "# im_width, im_height, _ = img1.shape\n",
    "# %timeit cv2.warpAffine(img1, \\\n",
    "#             np.float32([[1, 0, 100], \\\n",
    "#                         [0, 1, 200]]), \\\n",
    "#             (im_width, im_height))\n",
    "\n",
    "%timeit cv2.resize(img1, None, fx=2, fy=2, interpolation = cv2.INTER_LINEAR)"
   ]
  },
  {
   "cell_type": "code",
   "execution_count": 20,
   "metadata": {
    "collapsed": false
   },
   "outputs": [
    {
     "ename": "AttributeError",
     "evalue": "'int' object has no attribute 'shape'",
     "output_type": "error",
     "traceback": [
      "\u001b[1;31m---------------------------------------------------------------------------\u001b[0m",
      "\u001b[1;31mAttributeError\u001b[0m                            Traceback (most recent call last)",
      "\u001b[1;32m<ipython-input-20-ac0c49856699>\u001b[0m in \u001b[0;36m<module>\u001b[1;34m()\u001b[0m\n\u001b[0;32m      1\u001b[0m \u001b[1;32mimport\u001b[0m \u001b[0mnumpy\u001b[0m \u001b[1;32mas\u001b[0m \u001b[0mnp\u001b[0m\u001b[1;33m\u001b[0m\u001b[0m\n\u001b[1;32m----> 2\u001b[1;33m \u001b[0mx\u001b[0m \u001b[1;33m=\u001b[0m \u001b[0mnp\u001b[0m\u001b[1;33m.\u001b[0m\u001b[0mzeros\u001b[0m\u001b[1;33m(\u001b[0m\u001b[0mimg0\u001b[0m\u001b[1;33m.\u001b[0m\u001b[0mshape\u001b[0m\u001b[1;33m,\u001b[0m \u001b[0mdytpe\u001b[0m\u001b[1;33m=\u001b[0m\u001b[1;34m'uint8'\u001b[0m\u001b[1;33m)\u001b[0m\u001b[1;33m\u001b[0m\u001b[0m\n\u001b[0m",
      "\u001b[1;31mAttributeError\u001b[0m: 'int' object has no attribute 'shape'"
     ]
    }
   ],
   "source": [
    "import numpy as np\n",
    "x = np.zeros(img0.shape, dytpe='uint8')"
   ]
  },
  {
   "cell_type": "code",
   "execution_count": 23,
   "metadata": {
    "collapsed": false
   },
   "outputs": [
    {
     "name": "stdout",
     "output_type": "stream",
     "text": [
      "Variable           Type                   Data/Info\n",
      "---------------------------------------------------\n",
      "DISP_FULL_SCREEN   int                    0\n",
      "USE_CAM            int                    0\n",
      "border             Border                 <src.viztools.Border object at 0x7f69035d8410>\n",
      "cap                VideoCapture           <VideoCapture 0x7f68fc174fb0>\n",
      "cv2                module                 <module 'cv2' from '/usr/<...>.7/dist-packages/cv2.so'>\n",
      "effect_index       int                    3\n",
      "effects            list                   n=4\n",
      "fr_count           int                    79\n",
      "frame              ndarray                540x960x3: 1555200 elems, type `uint8`, 1555200 bytes (1 Mb)\n",
      "i                  int                    255\n",
      "img                ndarray                938x935x3: 2631090 elems, type `uint8`, 2631090 bytes (2 Mb)\n",
      "img0               int                    0\n",
      "img1               ndarray                938x935x3: 2631090 elems, type `uint8`, 2631090 bytes (2 Mb)\n",
      "img2               ndarray                938x935x3: 2631090 elems, type `uint8`, 2631090 bytes (2 Mb)\n",
      "key                int                    51\n",
      "key_list           list                   n=256\n",
      "np                 module                 <module 'numpy' from '/us<...>ages/numpy/__init__.pyc'>\n",
      "num                int                    9\n",
      "num_effects        int                    4\n",
      "post_process       bool                   False\n",
      "print_function     __future__._Feature    _Feature((2, 6, 0, 'alpha<...>0, 0, 'alpha', 0), 65536)\n",
      "ret                bool                   True\n",
      "target_fps         float                  20.0\n",
      "time               module                 <module 'time' (built-in)>\n",
      "time_pre           float                  1491712540.34\n",
      "time_tot           float                  0.0501048564911\n",
      "tot_fr_count       int                    1293\n",
      "vv                 module                 <module 'src.viztools' from 'src/viztools.py'>\n"
     ]
    }
   ],
   "source": [
    "whos"
   ]
  },
  {
   "cell_type": "code",
   "execution_count": null,
   "metadata": {
    "collapsed": true
   },
   "outputs": [],
   "source": []
  }
 ],
 "metadata": {
  "kernelspec": {
   "display_name": "Python 2",
   "language": "python",
   "name": "python2"
  },
  "language_info": {
   "codemirror_mode": {
    "name": "ipython",
    "version": 2
   },
   "file_extension": ".py",
   "mimetype": "text/x-python",
   "name": "python",
   "nbconvert_exporter": "python",
   "pygments_lexer": "ipython2",
   "version": "2.7.12"
  }
 },
 "nbformat": 4,
 "nbformat_minor": 0
}
