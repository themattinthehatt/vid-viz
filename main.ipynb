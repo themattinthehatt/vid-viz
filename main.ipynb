{
 "cells": [
  {
   "cell_type": "code",
   "execution_count": 1,
   "metadata": {
    "collapsed": true
   },
   "outputs": [],
   "source": [
    "import cv2\n",
    "import time\n",
    "import src.viztools as vv\n",
    "from __future__ import print_function"
   ]
  },
  {
   "cell_type": "code",
   "execution_count": null,
   "metadata": {
    "collapsed": false
   },
   "outputs": [],
   "source": [
    "\"\"\"TODO\n",
    "- finish alien effect\n",
    "- implement effect switching ('q' to exit)\n",
    "- implement effect base class (clean up switching code)\n",
    "- implement borders effect (first pass)\n",
    "- implement rgb walk\n",
    "\"\"\"\n",
    "\n",
    "\"\"\"BORDERS\"\"\"\n",
    "# # keyboard shortcut - z\n",
    "# BORDER_STYLE = 0\n",
    "# HEIGHT_MULT = 0.5\n",
    "# WIDTH_MULT = 0.5\n",
    "# MULT_INC = 0.05"
   ]
  },
  {
   "cell_type": "code",
   "execution_count": 22,
   "metadata": {
    "collapsed": false
   },
   "outputs": [
    {
     "data": {
      "text/plain": [
       "<module 'src.viztools' from 'src/viztools.py'>"
      ]
     },
     "execution_count": 22,
     "metadata": {},
     "output_type": "execute_result"
    }
   ],
   "source": [
    "reload(vv)"
   ]
  },
  {
   "cell_type": "code",
   "execution_count": 2,
   "metadata": {
    "collapsed": false
   },
   "outputs": [
    {
     "name": "stdout",
     "output_type": "stream",
     "text": [
      "019 fps"
     ]
    }
   ],
   "source": [
    "# general parameters\n",
    "USE_CAM = 0\n",
    "DISP_FULL_SCREEN = 0\n",
    "LOOP = True    # loop through videos\n",
    "\n",
    "# select video source\n",
    "if USE_CAM:\n",
    "    cap = cv2.VideoCapture(0)\n",
    "else:\n",
    "    cap = cv2.VideoCapture(0)\n",
    "#     cap = cv2.VideoCapture('/media/data/Dropbox/Git/vid-viz/data/tunnel_01.mp4')\n",
    "#     cap = cv2.VideoCapture('/home/mattw/Videos/2016-12-18 23-15-59.mp4')\n",
    "    \n",
    "# get video properties\n",
    "# target_fps = cap.get(cv2.CAP_PROP_FPS)\n",
    "target_fps = 20.0\n",
    "tot_fr_count = int(cap.get(cv2.CAP_PROP_FRAME_COUNT))\n",
    "\n",
    "# initialize key handler\n",
    "key_list = [False for i in range(256)]\n",
    "\n",
    "# initialize processing objects\n",
    "# thresh = vv.Threshold() \n",
    "thresh = vv.Alien()\n",
    "\n",
    "fr_count = 0\n",
    "while(cap.isOpened()):\n",
    "\n",
    "    time_pre = time.time()\n",
    "    \n",
    "    # get frame and relevant info\n",
    "    ret, frame = cap.read()\n",
    "    \n",
    "    if USE_CAM: #DISP_FULL_SCREEN\n",
    "        # crop image to have same aspect ratio as monitor\n",
    "        frame = frame[60:-60,:,:]\n",
    "    \n",
    "    [im_height, im_width, im_channels] = frame.shape\n",
    "\n",
    "    # get keyboard input\n",
    "    key = cv2.waitKey(1) & 0xFF\n",
    "    key_list[key] = True\n",
    "    if key == 27: # escape key\n",
    "        break\n",
    "\n",
    "    \"\"\"process frame\"\"\"\n",
    "    frame = thresh.process(frame, key_list)\n",
    "    \n",
    "\n",
    "\n",
    "    \n",
    "    \"\"\"apply borders last to save processing time\"\"\"\n",
    "#     if BORDER_STYLE > 0:\n",
    "    \n",
    "#         if INCREMENT:\n",
    "#             HEIGHT_MULT += MULT_INC\n",
    "#             WIDTH_MULT += MULT_INC\n",
    "#             INCREMENT = False\n",
    "#         if DECREMENT:\n",
    "#             HEIGHT_MULT -= MULT_INC\n",
    "#             if HEIGHT_MULT < 0:\n",
    "#                 HEIGHT_MULT = 0\n",
    "#             WIDTH_MULT -= MULT_INC\n",
    "#             if WIDTH_MULT < 0:\n",
    "#                 WIDTH_MULT = 0\n",
    "#             DECREMENT = False\n",
    "        \n",
    "#         if BORDER_STYLE == 1:\n",
    "\n",
    "#             # top, bottom, left, right\n",
    "#             frame = cv2.copyMakeBorder(frame, int(im_height*HEIGHT_MULT), int(im_height*HEIGHT_MULT),\n",
    "#                                               int(im_width*WIDTH_MULT), int(im_width*WIDTH_MULT),\n",
    "#                                               cv2.BORDER_WRAP)\n",
    "#         elif BORDER_STYLE == 2:\n",
    "#             # top, bottom, left, right\n",
    "#             frame = cv2.copyMakeBorder(frame, int(im_height*2*HEIGHT_MULT), 0,\n",
    "#                                               int(im_width*2*WIDTH_MULT), 0,\n",
    "#                                               cv2.BORDER_REFLECT)\n",
    "        \n",
    "    \"\"\"display frame\"\"\"\n",
    "    if DISP_FULL_SCREEN:\n",
    "        cv2.namedWindow('frame', cv2.WND_PROP_FULLSCREEN)\n",
    "        cv2.setWindowProperty('frame', cv2.WND_PROP_FULLSCREEN, cv2.WINDOW_FULLSCREEN)\n",
    "        cv2.imshow('frame', frame)\n",
    "    else:\n",
    "        cv2.imshow('frame', frame)\n",
    "        if fr_count == 0:\n",
    "            cv2.moveWindow('frame', 0, 0)\n",
    "    \n",
    "    \"\"\"clean up\"\"\"\n",
    "    # reset video\n",
    "    fr_count += 1\n",
    "    if fr_count == tot_fr_count and LOOP:\n",
    "        # reset frame postion to zero\n",
    "        cap.set(cv2.CAP_PROP_POS_FRAMES,1)\n",
    "        fr_count = 1\n",
    "    \n",
    "    # calculate, limit and output fps\n",
    "    time_post = time.time()\n",
    "    time_tot = time_post - time_pre\n",
    "    if time_tot < 1/target_fps:\n",
    "        time.sleep(1/target_fps - time_tot)\n",
    "    time_post = time.time()\n",
    "    time_tot = time_post - time_pre\n",
    "    fps = 1.0 / time_tot\n",
    "    print('\\r%03i fps' % fps, end='')\n",
    "    \n",
    "cap.release()\n",
    "cv2.destroyWindow('frame')"
   ]
  },
  {
   "cell_type": "code",
   "execution_count": null,
   "metadata": {
    "collapsed": true
   },
   "outputs": [],
   "source": [
    "\"\"\"RGB_WALK\"\"\"\n",
    "# RGB_WALK = False\n",
    "# RGB_INIT = False      # flag for initializing parameters on first pass\n",
    "# RGB_NUM_SAMPLES = 10  # number of random samples to average for smooth walk\n",
    "# RGB_NOISE_INDEX = 0   # counter in noise array\n",
    "# RGB_CH_VEC_POS = np.zeros((3,2)) \n",
    "# RGB_STEP_SIZE = 15.0   # step size in pixels that multiplies random walk step    \n",
    "\n",
    "        \n",
    "\"\"\"\n",
    "RGB WALK\n",
    "\"\"\"\n",
    "#     if RGB_WALK:\n",
    "        \n",
    "#         if RGB_INIT:\n",
    "#             noise_samples = np.random.randn(RGB_NUM_SAMPLES,6) # x,y for RGB channels\n",
    "#             RGB_INIT = False\n",
    "            \n",
    "#         # update params\n",
    "#         if KEY_PRESS_RESET:\n",
    "#             RGB_CH_VEC_POS = np.zeros((3,2), dtype='float64')\n",
    "#             KEY_PRESS_RESET = False\n",
    "            \n",
    "#         # process image\n",
    "#         frame_gray = cv2.cvtColor(frame, cv2.COLOR_BGR2GRAY)\n",
    "#         frame_gray = cv2.adaptiveThreshold(frame_gray, 255, cv2.ADAPTIVE_THRESH_MEAN_C, \n",
    "#                                            cv2.THRESH_BINARY_INV, 15, 5)\n",
    "#         frame_gray = cv2.medianBlur(frame_gray, 7)\n",
    "        \n",
    "#         # update noise values\n",
    "#         noise_samples[RGB_NOISE_INDEX,:] = np.random.randn(1,6)\n",
    "#         RGB_NOISE_INDEX = (RGB_NOISE_INDEX + 1) % RGB_NUM_SAMPLES\n",
    "#         RGB_CH_VEC_POS += np.reshape(RGB_STEP_SIZE*np.mean(noise_samples, axis=0), (3,2))\n",
    "        \n",
    "#         # translate image\n",
    "#         frame[:,:,0] = cv2.warpAffine(frame_gray, \n",
    "#                                       np.float32([[1, 0, RGB_CH_VEC_POS[0,0]], \n",
    "#                                                   [0, 1, RGB_CH_VEC_POS[0,1]]]), \n",
    "#                                       (im_width,im_height))\n",
    "#         frame[:,:,1] = cv2.warpAffine(frame_gray, \n",
    "#                                       np.float32([[1, 0, RGB_CH_VEC_POS[1,0]], \n",
    "#                                                   [0, 1, RGB_CH_VEC_POS[1,1]]]), \n",
    "#                                       (im_width,im_height))\n",
    "#         frame[:,:,2] = cv2.warpAffine(frame_gray, \n",
    "#                                       np.float32([[1, 0, RGB_CH_VEC_POS[2,0]], \n",
    "#                                                   [0, 1, RGB_CH_VEC_POS[2,1]]]), \n",
    "#                                       (im_width,im_height))"
   ]
  }
 ],
 "metadata": {
  "kernelspec": {
   "display_name": "Python 2",
   "language": "python",
   "name": "python2"
  },
  "language_info": {
   "codemirror_mode": {
    "name": "ipython",
    "version": 2
   },
   "file_extension": ".py",
   "mimetype": "text/x-python",
   "name": "python",
   "nbconvert_exporter": "python",
   "pygments_lexer": "ipython2",
   "version": "2.7.12"
  }
 },
 "nbformat": 4,
 "nbformat_minor": 0
}
