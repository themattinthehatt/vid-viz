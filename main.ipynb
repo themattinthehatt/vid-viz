{
 "cells": [
  {
   "cell_type": "code",
   "execution_count": 1,
   "metadata": {
    "collapsed": true
   },
   "outputs": [],
   "source": [
    "from __future__ import print_function\n",
    "from __future__ import division\n",
    "\n",
    "import cv2\n",
    "import time\n",
    "import numpy as np\n",
    "import src.viztools as vv"
   ]
  },
  {
   "cell_type": "markdown",
   "metadata": {
    "collapsed": false
   },
   "source": [
    " ### TODO\n",
    " * rgbburst style 2"
   ]
  },
  {
   "cell_type": "code",
   "execution_count": null,
   "metadata": {
    "collapsed": false
   },
   "outputs": [
    {
     "name": "stdout",
     "output_type": "stream",
     "text": [
      "019 fps"
     ]
    }
   ],
   "source": [
    "\"\"\"vid-viz main loop\n",
    "\n",
    "KEYBOARD INPUTS:\n",
    "    number keys - choose effect (see viztools.py for detailed keyboard input for each effect)\n",
    "        0 - thresholding\n",
    "        1 - alien\n",
    "        3 - rgbwalk\n",
    "        4 - rgbburst\n",
    "    q - quit effect (then number keys are once again available for choosing a new effect)\n",
    "    ` - enable toggling of border effects ('n' to toggle)\n",
    "    esc - exit loop\n",
    "\"\"\"\n",
    "\n",
    "# general parameters\n",
    "SOURCE = 'video'      # 'cam' | 'video' | 'image'\n",
    "DISP_FULL_SCREEN = 0\n",
    "ANIM_STYLE = 'loop' # 'loop' | 'pcycle' | 'rand'\n",
    "                    # reverse dir eats up lots of CPU in pcycle and rand\n",
    "\n",
    "# select video source\n",
    "if SOURCE is 'cam':\n",
    "    cap = cv2.VideoCapture(0)\n",
    "elif SOURCE is 'video':\n",
    "#     cap = cv2.VideoCapture(0)\n",
    "#     cap = cv2.VideoCapture('/media/data/Dropbox/Git/vid-viz/data/tunnel_01.mp4')\n",
    "#     cap = cv2.VideoCapture('/home/mattw/Videos/2016-12-18 23-15-59.mp4')\n",
    "#     cap = cv2.VideoCapture('/home/mattw/Videos/2016-08-26 02-48-16.mp4')\n",
    "    cap = cv2.VideoCapture('/media/data/Dropbox/Git/vid-viz/data/snowflake_02.mp4')\n",
    "elif SOURCE is 'image':\n",
    "    frame_orig = cv2.imread('/media/data/Dropbox/Git/vid-viz/data/honeycomb_01.jpg')\n",
    "    frame_orig = cv2.resize(frame_orig,\n",
    "                            None,\n",
    "                            fx=0.5,\n",
    "                            fy=0.5,\n",
    "                            interpolation=cv2.INTER_LINEAR)\n",
    "    frame_mask = np.copy(frame_orig)\n",
    "\n",
    "# get video properties\n",
    "if SOURCE is not 'image':\n",
    "    # target_fps = cap.get(cv2.CAP_PROP_FPS)\n",
    "    tot_fr_count = int(cap.get(cv2.CAP_PROP_FRAME_COUNT))\n",
    "else:\n",
    "    tot_fr_count = float('inf')\n",
    "    \n",
    "target_fps = 20.0\n",
    "ANIM_DIR = 'forward'\n",
    "\n",
    "# initialize key handler\n",
    "effect_index = None\n",
    "post_process = False\n",
    "key_list = [False for i in range(256)]\n",
    "\n",
    "# initialize processing objects\n",
    "effects = [vv.Threshold(),\n",
    "           vv.Alien(),\n",
    "           vv.RGBWalk(),\n",
    "           vv.RGBBurst(),\n",
    "           vv.Mask()]\n",
    "num_effects = len(effects)\n",
    "border = vv.Border()\n",
    "# mask = effects[-1].process(frame_mask, key_list)\n",
    "\n",
    "fr_count = 0\n",
    "while(True):\n",
    "\n",
    "    time_pre = time.time()\n",
    "    \n",
    "    # get frame and relevant info\n",
    "    if SOURCE is not 'image':\n",
    "        ret, frame = cap.read()\n",
    "        # crop image to have same aspect ratio as monitor\n",
    "        if SOURCE is 'cam':\n",
    "            frame = frame[60:-60,:,:]\n",
    "    else: #if effect_index is not num_effects-1:\n",
    "        # only update frame if not updating mask\n",
    "        frame = np.copy(frame_orig)\n",
    "\n",
    "    # get keyboard input\n",
    "    key = cv2.waitKey(1) & 0xFF\n",
    "    key_list[key] = True\n",
    "    if key == 27:\n",
    "        # escape key\n",
    "        break\n",
    "    elif key == ord('q'):\n",
    "        # quit current effect\n",
    "        effect_index = None\n",
    "    elif key == ord('`'):\n",
    "        post_process = not post_process\n",
    "        \n",
    "    # update current effect\n",
    "    if effect_index is None:\n",
    "        for num in range(10):\n",
    "            if key == ord(str(num)):\n",
    "                effect_index = num\n",
    "                key_list[key] = False\n",
    "        \n",
    "    # process frame\n",
    "    if effect_index is not None and effect_index < num_effects-1:\n",
    "        if post_process:\n",
    "            frame = effects[effect_index].process(frame, key_list, key_lock=True)            \n",
    "        else:\n",
    "            frame = effects[effect_index].process(frame, key_list)\n",
    "\n",
    "    # apply borders last to save processing time\n",
    "    if post_process:\n",
    "        frame = border.process(frame, key_list)\n",
    "    else:\n",
    "        frame = border.process(frame, key_list, key_lock=True)\n",
    "        \n",
    "#     if effect_index is not None and effect_index == num_effects-1:\n",
    "#         mask = effects[effect_index].process(frame_mask, key_list)\n",
    "#     frame = cv2.bitwise_and(frame, frame, mask=mask)\n",
    "\n",
    "    # display frame\n",
    "    if DISP_FULL_SCREEN:\n",
    "        cv2.namedWindow('frame', cv2.WND_PROP_FULLSCREEN)\n",
    "        cv2.setWindowProperty('frame', cv2.WND_PROP_FULLSCREEN, cv2.WINDOW_FULLSCREEN)\n",
    "        cv2.imshow('frame', frame)\n",
    "    else:\n",
    "        cv2.imshow('frame', frame)\n",
    "        if fr_count == 0:\n",
    "            cv2.moveWindow('frame', 0, 0)\n",
    "    \n",
    "    # control animation\n",
    "    if ANIM_STYLE is 'loop':\n",
    "        fr_count += 1\n",
    "        if fr_count == tot_fr_count:\n",
    "            # reset frame postion to 1 (not zero so window isn't moved)\n",
    "            cap.set(cv2.CAP_PROP_POS_FRAMES, 1)\n",
    "            fr_count = 1\n",
    "    elif ANIM_STYLE is 'pcycle':\n",
    "        # update frame index\n",
    "        if ANIM_DIR is 'forward':\n",
    "            fr_count += 1\n",
    "        elif ANIM_DIR is 'backward':\n",
    "            fr_count -= 1\n",
    "        # reverse direction if necessary\n",
    "        if fr_count == tot_fr_count:\n",
    "            fr_count -= 2\n",
    "            ANIM_DIR = 'backward'\n",
    "        elif fr_count == 0:\n",
    "            fr_count = 1\n",
    "            ANIM_DIR = 'forward'\n",
    "            cap.set(cv2.CAP_PROP_POS_FRAMES, fr_count)\n",
    "        # update\n",
    "        if ANIM_DIR is 'backward':\n",
    "            cap.set(cv2.CAP_PROP_POS_FRAMES, fr_count)\n",
    "\n",
    "    # calculate, limit and output fps\n",
    "    time_tot = time.time() - time_pre\n",
    "    if time_tot < 1/target_fps:\n",
    "        time.sleep(1/target_fps - time_tot)\n",
    "    time_tot = time.time() - time_pre\n",
    "    print('\\r%03i fps' % (1.0 / time_tot), end='')\n",
    "    \n",
    "    # reset key list (for pressed keys that are not reset by effect object(s))\n",
    "    key_list[key] = False\n",
    "    \n",
    "cap.release()\n",
    "cv2.destroyWindow('frame')"
   ]
  },
  {
   "cell_type": "code",
   "execution_count": 32,
   "metadata": {
    "collapsed": false
   },
   "outputs": [
    {
     "data": {
      "text/plain": [
       "<module 'src.viztools' from 'src/viztools.pyc'>"
      ]
     },
     "execution_count": 32,
     "metadata": {},
     "output_type": "execute_result"
    }
   ],
   "source": [
    "reload(vv)"
   ]
  },
  {
   "cell_type": "code",
   "execution_count": 27,
   "metadata": {
    "collapsed": false
   },
   "outputs": [
    {
     "data": {
      "text/plain": [
       "9"
      ]
     },
     "execution_count": 27,
     "metadata": {},
     "output_type": "execute_result"
    }
   ],
   "source": [
    "ord('\\t')"
   ]
  },
  {
   "cell_type": "code",
   "execution_count": 119,
   "metadata": {
    "collapsed": false
   },
   "outputs": [
    {
     "name": "stdout",
     "output_type": "stream",
     "text": [
      "The slowest run took 133.82 times longer than the fastest. This could mean that an intermediate result is being cached.\n",
      "10000000 loops, best of 3: 183 ns per loop\n"
     ]
    }
   ],
   "source": [
    "%timeit cap.set(cv2.CAP_PROP_POS_FRAMES,1)"
   ]
  },
  {
   "cell_type": "code",
   "execution_count": 68,
   "metadata": {
    "collapsed": false
   },
   "outputs": [
    {
     "name": "stdout",
     "output_type": "stream",
     "text": [
      "100 loops, best of 3: 2.51 ms per loop\n"
     ]
    }
   ],
   "source": [
    "img1 = cv2.imread('/media/data/Dropbox/Git/vid-viz/data/test_img.png')\n",
    "\n",
    "# img0 = 0\n",
    "# img2 = cv2.addWeighted(img0, 0.1, img1, 0.9, 0)\n",
    "# %timeit cv2.addWeighted(img0, 0.1, img1, 0.9, 0)\n",
    "\n",
    "# im_width, im_height, _ = img1.shape\n",
    "# %timeit cv2.warpAffine(img1, \\\n",
    "#             np.float32([[1, 0, 100], \\\n",
    "#                         [0, 1, 200]]), \\\n",
    "#             (im_width, im_height))\n",
    "\n",
    "%timeit cv2.resize(img1, None, fx=2, fy=2, interpolation = cv2.INTER_LINEAR)"
   ]
  },
  {
   "cell_type": "markdown",
   "metadata": {},
   "source": [
    "### To patrol-cycle an mp4 with ffmpeg\n",
    "* ffmpeg -i source.mp4 -vf reverse source_rev.mp4\n",
    "* ffmpeg -f concat -i concat_list.txt -c copy concated.mp4\n",
    "\n",
    "##### concat_list.txt\n",
    "file '/path/to/vid0.mp4'\n",
    "\n",
    "file '/path/to/vid1.mp4'"
   ]
  }
 ],
 "metadata": {
  "kernelspec": {
   "display_name": "Python 2",
   "language": "python",
   "name": "python2"
  },
  "language_info": {
   "codemirror_mode": {
    "name": "ipython",
    "version": 2
   },
   "file_extension": ".py",
   "mimetype": "text/x-python",
   "name": "python",
   "nbconvert_exporter": "python",
   "pygments_lexer": "ipython2",
   "version": "2.7.12"
  }
 },
 "nbformat": 4,
 "nbformat_minor": 0
}
