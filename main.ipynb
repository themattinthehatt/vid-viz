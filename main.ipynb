{
 "cells": [
  {
   "cell_type": "code",
   "execution_count": 1,
   "metadata": {
    "collapsed": true
   },
   "outputs": [],
   "source": [
    "import cv2\n",
    "import time\n",
    "import src.viztools as vv\n",
    "from __future__ import print_function"
   ]
  },
  {
   "cell_type": "markdown",
   "metadata": {
    "collapsed": false
   },
   "source": [
    " ### TODO"
   ]
  },
  {
   "cell_type": "code",
   "execution_count": null,
   "metadata": {
    "collapsed": false
   },
   "outputs": [],
   "source": [
    "reload(vv)"
   ]
  },
  {
   "cell_type": "code",
   "execution_count": null,
   "metadata": {
    "collapsed": false
   },
   "outputs": [
    {
     "name": "stdout",
     "output_type": "stream",
     "text": [
      "019 fps"
     ]
    }
   ],
   "source": [
    "# general parameters\n",
    "USE_CAM = 0\n",
    "DISP_FULL_SCREEN = 0\n",
    "LOOP = True    # loop through videos\n",
    "\n",
    "# select video source\n",
    "if USE_CAM:\n",
    "    cap = cv2.VideoCapture(0)\n",
    "else:\n",
    "    cap = cv2.VideoCapture(0)\n",
    "#     cap = cv2.VideoCapture('/media/data/Dropbox/Git/vid-viz/data/tunnel_01.mp4')\n",
    "#     cap = cv2.VideoCapture('/home/mattw/Videos/2016-12-18 23-15-59.mp4')\n",
    "    \n",
    "# get video properties\n",
    "# target_fps = cap.get(cv2.CAP_PROP_FPS)\n",
    "target_fps = 20.0\n",
    "tot_fr_count = int(cap.get(cv2.CAP_PROP_FRAME_COUNT))\n",
    "\n",
    "# initialize key handler\n",
    "effect_index = None\n",
    "post_process = False\n",
    "key_list = [False for i in range(256)]\n",
    "\n",
    "# initialize processing objects\n",
    "effects = [vv.Threshold(),\n",
    "           vv.Alien(),\n",
    "           vv.RGBWalk()]\n",
    "num_effects = len(effects)\n",
    "border = vv.Border()\n",
    "\n",
    "fr_count = 0\n",
    "while(cap.isOpened()):\n",
    "\n",
    "    time_pre = time.time()\n",
    "    \n",
    "    # get frame and relevant info\n",
    "    ret, frame = cap.read()\n",
    "    \n",
    "    if USE_CAM:\n",
    "        # crop image to have same aspect ratio as monitor\n",
    "        frame = frame[60:-60,:,:]\n",
    "\n",
    "    # get keyboard input\n",
    "    key = cv2.waitKey(1) & 0xFF\n",
    "    key_list[key] = True\n",
    "    if key == 27:\n",
    "        # escape key\n",
    "        break\n",
    "    elif key == ord('q'):\n",
    "        # quit current effect\n",
    "        effect_index = None\n",
    "    elif key == ord('`'):\n",
    "        post_process = not post_process\n",
    "        \n",
    "    if effect_index is None:\n",
    "        for num in range(10):\n",
    "            if key == ord(str(num)):\n",
    "                effect_index = num\n",
    "        \n",
    "    # process frame\n",
    "    if effect_index is not None and effect_index < num_effects:\n",
    "        frame = effects[effect_index].process(frame, key_list)\n",
    "    \n",
    "    # apply borders last to save processing time\n",
    "    if post_process:\n",
    "        frame = border.process(frame, key_list)\n",
    "\n",
    "    # display frame\n",
    "    if DISP_FULL_SCREEN:\n",
    "        cv2.namedWindow('frame', cv2.WND_PROP_FULLSCREEN)\n",
    "        cv2.setWindowProperty('frame', cv2.WND_PROP_FULLSCREEN, cv2.WINDOW_FULLSCREEN)\n",
    "        cv2.imshow('frame', frame)\n",
    "    else:\n",
    "        cv2.imshow('frame', frame)\n",
    "        if fr_count == 0:\n",
    "            cv2.moveWindow('frame', 0, 0)\n",
    "    \n",
    "    # reset video\n",
    "    fr_count += 1\n",
    "    if fr_count == tot_fr_count and LOOP:\n",
    "        # reset frame postion to zero\n",
    "        cap.set(cv2.CAP_PROP_POS_FRAMES,1)\n",
    "        fr_count = 1\n",
    "    \n",
    "    # calculate, limit and output fps\n",
    "    time_tot = time.time() - time_pre\n",
    "    if time_tot < 1/target_fps:\n",
    "        time.sleep(1/target_fps - time_tot)\n",
    "    time_tot = time.time() - time_pre\n",
    "    print('\\r%03i fps' % (1.0 / time_tot), end='')\n",
    "    \n",
    "cap.release()\n",
    "cv2.destroyWindow('frame')"
   ]
  }
 ],
 "metadata": {
  "kernelspec": {
   "display_name": "Python 2",
   "language": "python",
   "name": "python2"
  },
  "language_info": {
   "codemirror_mode": {
    "name": "ipython",
    "version": 2
   },
   "file_extension": ".py",
   "mimetype": "text/x-python",
   "name": "python",
   "nbconvert_exporter": "python",
   "pygments_lexer": "ipython2",
   "version": "2.7.12"
  }
 },
 "nbformat": 4,
 "nbformat_minor": 0
}
